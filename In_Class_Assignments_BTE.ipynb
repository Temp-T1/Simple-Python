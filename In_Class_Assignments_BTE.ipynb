{
  "nbformat": 4,
  "nbformat_minor": 0,
  "metadata": {
    "colab": {
      "provenance": [],
      "authorship_tag": "ABX9TyOIfkaIpMJuMWEkrlts6Acs",
      "include_colab_link": true
    },
    "kernelspec": {
      "name": "python3",
      "display_name": "Python 3"
    },
    "language_info": {
      "name": "python"
    }
  },
  "cells": [
    {
      "cell_type": "markdown",
      "metadata": {
        "id": "view-in-github",
        "colab_type": "text"
      },
      "source": [
        "<a href=\"https://colab.research.google.com/github/Temp-T1/Simple-Python/blob/main/In_Class_Assignments_BTE.ipynb\" target=\"_parent\"><img src=\"https://colab.research.google.com/assets/colab-badge.svg\" alt=\"Open In Colab\"/></a>"
      ]
    },
    {
      "cell_type": "markdown",
      "source": [
        "# In Class Assignment - 1/24/25 - Alvaro Bayer"
      ],
      "metadata": {
        "id": "bbtj27sxZ_Hq"
      }
    },
    {
      "cell_type": "code",
      "execution_count": null,
      "metadata": {
        "colab": {
          "base_uri": "https://localhost:8080/"
        },
        "id": "annyg0iyZ5ki",
        "outputId": "d86cd7bb-ca7d-40a3-d29a-ed83b59f6a35"
      },
      "outputs": [
        {
          "name": "stdout",
          "output_type": "stream",
          "text": [
            "Would you like to input pi or use an exact value (Input / Exact): Exact\n",
            "\n",
            "\n",
            "The value of pi is assumed to be:  3.141592653589793\n",
            "\n",
            "\n",
            "Please enter the height of the cylinder: 10\n",
            "Please enter the radius of the cylinder: 5\n"
          ]
        }
      ],
      "source": [
        "# Ask user if they would like to input pi or use exact value\n",
        "pi_question = input(\"Would you like to input pi or use an exact value (Input / Exact): \")\n",
        "\n",
        "# Determine which pi to use\n",
        "if pi_question == \"Input\":\n",
        "  print(\"\\n\")\n",
        "  pi = float(input(\"Please enter the value of pi you would like to use: \"))\n",
        "else:\n",
        "  import math\n",
        "  pi = math.pi\n",
        "# Print the value of pi that will be used\n",
        "print(\"\\n\")\n",
        "print(\"The value of pi is assumed to be: \", pi)\n",
        "\n",
        "# Ask User for Inputs\n",
        "print(\"\\n\")\n",
        "H = int(input(\"Please enter the height of the cylinder: \"))\n",
        "r = int(input(\"Please enter the radius of the cylinder: \"))"
      ]
    },
    {
      "cell_type": "code",
      "source": [
        "# Calculate the surface area of the cylinder\n",
        "Surf_A = (2*pi*(r**2)) + (2*pi*r*H);\n",
        "\n",
        "# Print the surface area and value of pi\n",
        "print(\"The surface area of the cylinder is: \", Surf_A, \" units^2\");"
      ],
      "metadata": {
        "colab": {
          "base_uri": "https://localhost:8080/"
        },
        "id": "YO6hGPuraaiD",
        "outputId": "790490cc-e8ee-4237-b1e6-5d47b7dea44e"
      },
      "execution_count": null,
      "outputs": [
        {
          "output_type": "stream",
          "name": "stdout",
          "text": [
            "The surface area of the cylinder is:  471.23889803846896  units^2\n"
          ]
        }
      ]
    },
    {
      "cell_type": "markdown",
      "source": [
        "# In Class Assignment 1/31/25\n",
        "\n",
        "Basic Calculator"
      ],
      "metadata": {
        "id": "55id--5bb6vw"
      }
    },
    {
      "cell_type": "code",
      "source": [
        "print(\"Hello, thanks for using my calculator\")\n",
        "print(\"\\n\")\n",
        "num1 = float(input(\"Please enter your first number: \"))\n",
        "operator = (input(\"Please enter the operation (+, -, *, /, //, **, %): \"))\n",
        "num2 = float(input(\"Please enter your second number: \"))\n",
        "\n",
        "print(\"\\n\")\n",
        "print(\"Your answer is: \")\n",
        "if operator == \"+\":\n",
        "  print(num1 + num2)\n",
        "elif operator == \"-\":\n",
        "  print(num1 - num2)\n",
        "elif operator == \"*\":\n",
        "  print(num1 * num2)\n",
        "elif operator == \"/\":\n",
        "  print(num1 / num2)\n",
        "elif operator == \"//\":\n",
        "  print(num1 // num2)\n",
        "elif operator == \"**\":\n",
        "  print(num1 ** num2)\n",
        "elif operator == \"%\":\n",
        "  print(num1 % num2)\n",
        "else:\n",
        "  print(\"Invalid Operator\")\n",
        "\n",
        "print(\"\\n\")\n",
        "print(\"Thanks for using the calculator\")"
      ],
      "metadata": {
        "colab": {
          "base_uri": "https://localhost:8080/"
        },
        "id": "OyXtM7Rsb6aH",
        "outputId": "50783308-0053-4a23-c7cb-1e5d0670a2ab"
      },
      "execution_count": null,
      "outputs": [
        {
          "output_type": "stream",
          "name": "stdout",
          "text": [
            "Hello, thanks for using my calculator\n",
            "\n",
            "\n",
            "Please enter your first number: 3\n",
            "Please enter the operation (+,-,*,/,//,**,%): 4\n",
            "Please enter your second number: 3\n",
            "\n",
            "\n",
            "Your answer is: \n",
            "Invalid Operator\n",
            "\n",
            "\n",
            "Thanks for using the calculator\n"
          ]
        }
      ]
    },
    {
      "cell_type": "markdown",
      "source": [
        "# In class Assignment 2/5/25 - Parking Garage Problem"
      ],
      "metadata": {
        "id": "Zy9QwhafJVgz"
      }
    },
    {
      "cell_type": "code",
      "source": [
        "min_fee = 10\n",
        "max_fee = 20\n",
        "base_fee = 5\n",
        "hourly = 2.5\n",
        "\n",
        "for i in range(1,9):\n",
        "  fee = base_fee + (hourly*i)\n",
        "  if fee < min_fee:\n",
        "    fee = min_fee\n",
        "  elif fee > max_fee:\n",
        "    fee = max_fee\n",
        "  print(i, \" \", fee)"
      ],
      "metadata": {
        "colab": {
          "base_uri": "https://localhost:8080/"
        },
        "id": "lPCrox2kJaGz",
        "outputId": "32cbe688-fa6d-45d8-9fed-49e4fcf5c00b"
      },
      "execution_count": 4,
      "outputs": [
        {
          "output_type": "stream",
          "name": "stdout",
          "text": [
            "1   10\n",
            "2   10.0\n",
            "3   12.5\n",
            "4   15.0\n",
            "5   17.5\n",
            "6   20.0\n",
            "7   20\n",
            "8   20\n"
          ]
        }
      ]
    }
  ]
}