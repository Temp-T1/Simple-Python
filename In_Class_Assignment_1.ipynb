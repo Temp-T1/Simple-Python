{
  "nbformat": 4,
  "nbformat_minor": 0,
  "metadata": {
    "colab": {
      "provenance": [],
      "authorship_tag": "ABX9TyN07qIFrEg+Hri7Bqdrc2cD",
      "include_colab_link": true
    },
    "kernelspec": {
      "name": "python3",
      "display_name": "Python 3"
    },
    "language_info": {
      "name": "python"
    }
  },
  "cells": [
    {
      "cell_type": "markdown",
      "metadata": {
        "id": "view-in-github",
        "colab_type": "text"
      },
      "source": [
        "<a href=\"https://colab.research.google.com/github/Temp-T1/Simple-Python/blob/main/In_Class_Assignment_1.ipynb\" target=\"_parent\"><img src=\"https://colab.research.google.com/assets/colab-badge.svg\" alt=\"Open In Colab\"/></a>"
      ]
    },
    {
      "cell_type": "markdown",
      "source": [
        "# In Class Assignment - 1/24/25 - Alvaro Bayer"
      ],
      "metadata": {
        "id": "bbtj27sxZ_Hq"
      }
    },
    {
      "cell_type": "code",
      "execution_count": null,
      "metadata": {
        "colab": {
          "base_uri": "https://localhost:8080/"
        },
        "id": "annyg0iyZ5ki",
        "outputId": "d86cd7bb-ca7d-40a3-d29a-ed83b59f6a35"
      },
      "outputs": [
        {
          "name": "stdout",
          "output_type": "stream",
          "text": [
            "Would you like to input pi or use an exact value (Input / Exact): Exact\n",
            "\n",
            "\n",
            "The value of pi is assumed to be:  3.141592653589793\n",
            "\n",
            "\n",
            "Please enter the height of the cylinder: 10\n",
            "Please enter the radius of the cylinder: 5\n"
          ]
        }
      ],
      "source": [
        "# Ask user if they would like to input pi or use exact value\n",
        "pi_question = input(\"Would you like to input pi or use an exact value (Input / Exact): \")\n",
        "\n",
        "# Determine which pi to use\n",
        "if pi_question == \"Input\":\n",
        "  print(\"\\n\")\n",
        "  pi = float(input(\"Please enter the value of pi you would like to use: \"))\n",
        "else:\n",
        "  import math\n",
        "  pi = math.pi\n",
        "# Print the value of pi that will be used\n",
        "print(\"\\n\")\n",
        "print(\"The value of pi is assumed to be: \", pi)\n",
        "\n",
        "# Ask User for Inputs\n",
        "print(\"\\n\")\n",
        "H = int(input(\"Please enter the height of the cylinder: \"))\n",
        "r = int(input(\"Please enter the radius of the cylinder: \"))"
      ]
    },
    {
      "cell_type": "code",
      "source": [
        "# Calculate the surface area of the cylinder\n",
        "Surf_A = (2*pi*(r**2)) + (2*pi*r*H);\n",
        "\n",
        "# Print the surface area and value of pi\n",
        "print(\"The surface area of the cylinder is: \", Surf_A, \" units^2\");"
      ],
      "metadata": {
        "colab": {
          "base_uri": "https://localhost:8080/"
        },
        "id": "YO6hGPuraaiD",
        "outputId": "790490cc-e8ee-4237-b1e6-5d47b7dea44e"
      },
      "execution_count": null,
      "outputs": [
        {
          "output_type": "stream",
          "name": "stdout",
          "text": [
            "The surface area of the cylinder is:  471.23889803846896  units^2\n"
          ]
        }
      ]
    }
  ]
}